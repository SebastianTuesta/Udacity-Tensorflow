{
 "cells": [
  {
   "cell_type": "code",
   "execution_count": 20,
   "metadata": {},
   "outputs": [],
   "source": [
    "import tensorflow as tf\n",
    "\n",
    "from tensorflow.keras.preprocessing.sequence import pad_sequences"
   ]
  },
  {
   "cell_type": "code",
   "execution_count": 21,
   "metadata": {},
   "outputs": [],
   "source": [
    "import pandas as pd\n",
    "\n",
    "dataset = pd.read_csv('tmp/sentiment.csv')\n",
    "\n",
    "# Extract out sentences and labels\n",
    "sentences = dataset['text'].tolist()\n",
    "labels = dataset['sentiment'].tolist()"
   ]
  },
  {
   "cell_type": "code",
   "execution_count": 22,
   "metadata": {},
   "outputs": [
    {
     "name": "stdout",
     "output_type": "stream",
     "text": [
      "So there is no way for me to plug it in here in the US unless I go by a converter.\n",
      "0\n",
      "\n",
      "\n",
      "Good case Excellent value.\n",
      "1\n",
      "\n",
      "\n"
     ]
    }
   ],
   "source": [
    "# Print some example sentences and labels\n",
    "for x in range(2):\n",
    "  print(sentences[x])\n",
    "  print(labels[x])\n",
    "  print(\"\\n\")"
   ]
  },
  {
   "cell_type": "code",
   "execution_count": 23,
   "metadata": {},
   "outputs": [
    {
     "name": "stdout",
     "output_type": "stream",
     "text": [
      "Vocab size is  999\n"
     ]
    }
   ],
   "source": [
    "import tensorflow_datasets as tfds\n",
    "\n",
    "vocab_size = 1000\n",
    "tokenizer = tfds.deprecated.text.SubwordTextEncoder.build_from_corpus(sentences, vocab_size, max_subword_length=5)\n",
    "\n",
    "# How big is the vocab size?\n",
    "print(\"Vocab size is \", tokenizer.vocab_size)"
   ]
  },
  {
   "cell_type": "code",
   "execution_count": 24,
   "metadata": {},
   "outputs": [
    {
     "name": "stdout",
     "output_type": "stream",
     "text": [
      "I have to jiggle the plug to get it to line up right to get decent volume.\n",
      "[4, 31, 6, 849, 162, 450, 12, 1, 600, 438, 775, 6, 175, 14, 6, 55, 213, 159, 474, 775, 6, 175, 614, 380, 295, 148, 72, 789]\n"
     ]
    }
   ],
   "source": [
    "# Check that the tokenizer works appropriately\n",
    "num = 5\n",
    "print(sentences[num])\n",
    "encoded = tokenizer.encode(sentences[num])\n",
    "print(encoded)"
   ]
  },
  {
   "cell_type": "code",
   "execution_count": 25,
   "metadata": {},
   "outputs": [
    {
     "name": "stdout",
     "output_type": "stream",
     "text": [
      "I \n",
      "have \n",
      "to \n",
      "j\n",
      "ig\n",
      "gl\n",
      "e \n",
      "the \n",
      "pl\n",
      "ug\n",
      " \n",
      "to \n",
      "get \n",
      "it \n",
      "to \n",
      "li\n",
      "ne \n",
      "up \n",
      "right\n",
      " \n",
      "to \n",
      "get \n",
      "dec\n",
      "ent \n",
      "vo\n",
      "lu\n",
      "me\n",
      ".\n"
     ]
    }
   ],
   "source": [
    "# Separately print out each subword, decoded\n",
    "for i in encoded:\n",
    "  print(tokenizer.decode([i]))"
   ]
  },
  {
   "cell_type": "code",
   "execution_count": 26,
   "metadata": {},
   "outputs": [],
   "source": [
    "for i, sentence in enumerate(sentences):\n",
    "  sentences[i] = tokenizer.encode(sentence)"
   ]
  },
  {
   "cell_type": "code",
   "execution_count": 27,
   "metadata": {},
   "outputs": [
    {
     "name": "stdout",
     "output_type": "stream",
     "text": [
      "[4, 31, 6, 849, 162, 450, 12, 1, 600, 438, 775, 6, 175, 14, 6, 55, 213, 159, 474, 775, 6, 175, 614, 380, 295, 148, 72, 789]\n"
     ]
    }
   ],
   "source": [
    "# Check the sentences are appropriately replaced\n",
    "print(sentences[5])"
   ]
  },
  {
   "cell_type": "code",
   "execution_count": 28,
   "metadata": {},
   "outputs": [],
   "source": [
    "import numpy as np\n",
    "\n",
    "max_length = 50\n",
    "trunc_type='post'\n",
    "padding_type='post'\n",
    "\n",
    "# Pad all sequences\n",
    "sequences_padded = pad_sequences(sentences, maxlen=max_length, \n",
    "                                 padding=padding_type, truncating=trunc_type)\n",
    "\n",
    "# Separate out the sentences and labels into training and test sets\n",
    "training_size = int(len(sentences) * 0.8)\n",
    "\n",
    "training_sequences = sequences_padded[0:training_size]\n",
    "testing_sequences = sequences_padded[training_size:]\n",
    "training_labels = labels[0:training_size]\n",
    "testing_labels = labels[training_size:]\n",
    "\n",
    "# Make labels into numpy arrays for use with the network later\n",
    "training_labels_final = np.array(training_labels)\n",
    "testing_labels_final = np.array(testing_labels)"
   ]
  },
  {
   "cell_type": "code",
   "execution_count": 29,
   "metadata": {},
   "outputs": [],
   "source": [
    "import numpy as np\n",
    "\n",
    "max_length = 50\n",
    "trunc_type='post'\n",
    "padding_type='post'\n",
    "\n",
    "# Pad all sequences\n",
    "sequences_padded = pad_sequences(sentences, maxlen=max_length, \n",
    "                                 padding=padding_type, truncating=trunc_type)\n",
    "\n",
    "# Separate out the sentences and labels into training and test sets\n",
    "training_size = int(len(sentences) * 0.8)\n",
    "\n",
    "training_sequences = sequences_padded[0:training_size]\n",
    "testing_sequences = sequences_padded[training_size:]\n",
    "training_labels = labels[0:training_size]\n",
    "testing_labels = labels[training_size:]\n",
    "\n",
    "# Make labels into numpy arrays for use with the network later\n",
    "training_labels_final = np.array(training_labels)\n",
    "testing_labels_final = np.array(testing_labels)"
   ]
  },
  {
   "cell_type": "code",
   "execution_count": 30,
   "metadata": {},
   "outputs": [
    {
     "name": "stdout",
     "output_type": "stream",
     "text": [
      "Epoch 1/30\n",
      "50/50 [==============================] - 1s 6ms/step - loss: 0.1699 - accuracy: 0.9492 - val_loss: 0.5967 - val_accuracy: 0.7569\n",
      "Epoch 2/30\n",
      "50/50 [==============================] - 0s 3ms/step - loss: 0.1601 - accuracy: 0.9548 - val_loss: 0.6062 - val_accuracy: 0.7594\n",
      "Epoch 3/30\n",
      "50/50 [==============================] - 0s 4ms/step - loss: 0.1559 - accuracy: 0.9561 - val_loss: 0.6371 - val_accuracy: 0.7368\n",
      "Epoch 4/30\n",
      "50/50 [==============================] - 0s 3ms/step - loss: 0.1513 - accuracy: 0.9561 - val_loss: 0.6304 - val_accuracy: 0.7544\n",
      "Epoch 5/30\n",
      "50/50 [==============================] - 0s 5ms/step - loss: 0.1468 - accuracy: 0.9561 - val_loss: 0.6499 - val_accuracy: 0.7494\n",
      "Epoch 6/30\n",
      "50/50 [==============================] - 0s 5ms/step - loss: 0.1405 - accuracy: 0.9630 - val_loss: 0.6652 - val_accuracy: 0.7494\n",
      "Epoch 7/30\n",
      "50/50 [==============================] - 0s 5ms/step - loss: 0.1353 - accuracy: 0.9661 - val_loss: 0.6721 - val_accuracy: 0.7494\n",
      "Epoch 8/30\n",
      "50/50 [==============================] - 0s 5ms/step - loss: 0.1321 - accuracy: 0.9655 - val_loss: 0.6991 - val_accuracy: 0.7218\n",
      "Epoch 9/30\n",
      "50/50 [==============================] - 0s 5ms/step - loss: 0.1275 - accuracy: 0.9686 - val_loss: 0.6983 - val_accuracy: 0.7494\n",
      "Epoch 10/30\n",
      "50/50 [==============================] - 0s 4ms/step - loss: 0.1240 - accuracy: 0.9661 - val_loss: 0.7189 - val_accuracy: 0.7218\n",
      "Epoch 11/30\n",
      "50/50 [==============================] - 0s 5ms/step - loss: 0.1192 - accuracy: 0.9699 - val_loss: 0.7137 - val_accuracy: 0.7519\n",
      "Epoch 12/30\n",
      "50/50 [==============================] - 0s 4ms/step - loss: 0.1166 - accuracy: 0.9749 - val_loss: 0.7336 - val_accuracy: 0.7419\n",
      "Epoch 13/30\n",
      "50/50 [==============================] - 0s 5ms/step - loss: 0.1110 - accuracy: 0.9705 - val_loss: 0.7409 - val_accuracy: 0.7519\n",
      "Epoch 14/30\n",
      "50/50 [==============================] - 0s 4ms/step - loss: 0.1076 - accuracy: 0.9749 - val_loss: 0.7543 - val_accuracy: 0.7544\n",
      "Epoch 15/30\n",
      "50/50 [==============================] - 0s 5ms/step - loss: 0.1048 - accuracy: 0.9743 - val_loss: 0.7779 - val_accuracy: 0.7243\n",
      "Epoch 16/30\n",
      "50/50 [==============================] - 0s 6ms/step - loss: 0.1022 - accuracy: 0.9736 - val_loss: 0.7800 - val_accuracy: 0.7544\n",
      "Epoch 17/30\n",
      "50/50 [==============================] - 0s 7ms/step - loss: 0.0988 - accuracy: 0.9768 - val_loss: 0.7934 - val_accuracy: 0.7544\n",
      "Epoch 18/30\n",
      "50/50 [==============================] - 0s 5ms/step - loss: 0.0947 - accuracy: 0.9787 - val_loss: 0.8147 - val_accuracy: 0.7268\n",
      "Epoch 19/30\n",
      "50/50 [==============================] - 0s 5ms/step - loss: 0.0924 - accuracy: 0.9812 - val_loss: 0.8305 - val_accuracy: 0.7243\n",
      "Epoch 20/30\n",
      "50/50 [==============================] - 0s 5ms/step - loss: 0.0898 - accuracy: 0.9831 - val_loss: 0.8468 - val_accuracy: 0.7268\n",
      "Epoch 21/30\n",
      "50/50 [==============================] - 0s 6ms/step - loss: 0.0865 - accuracy: 0.9799 - val_loss: 0.8443 - val_accuracy: 0.7519\n",
      "Epoch 22/30\n",
      "50/50 [==============================] - 0s 5ms/step - loss: 0.0835 - accuracy: 0.9799 - val_loss: 0.8608 - val_accuracy: 0.7444\n",
      "Epoch 23/30\n",
      "50/50 [==============================] - 0s 5ms/step - loss: 0.0816 - accuracy: 0.9805 - val_loss: 0.8735 - val_accuracy: 0.7494\n",
      "Epoch 24/30\n",
      "50/50 [==============================] - 0s 5ms/step - loss: 0.0773 - accuracy: 0.9849 - val_loss: 0.8861 - val_accuracy: 0.7494\n",
      "Epoch 25/30\n",
      "50/50 [==============================] - 0s 5ms/step - loss: 0.0761 - accuracy: 0.9831 - val_loss: 0.9057 - val_accuracy: 0.7368\n",
      "Epoch 26/30\n",
      "50/50 [==============================] - 0s 5ms/step - loss: 0.0735 - accuracy: 0.9881 - val_loss: 0.9161 - val_accuracy: 0.7469\n",
      "Epoch 27/30\n",
      "50/50 [==============================] - 0s 5ms/step - loss: 0.0708 - accuracy: 0.9856 - val_loss: 0.9318 - val_accuracy: 0.7469\n",
      "Epoch 28/30\n",
      "50/50 [==============================] - 0s 5ms/step - loss: 0.0702 - accuracy: 0.9868 - val_loss: 0.9589 - val_accuracy: 0.7268\n",
      "Epoch 29/30\n",
      "50/50 [==============================] - 0s 6ms/step - loss: 0.0668 - accuracy: 0.9868 - val_loss: 0.9605 - val_accuracy: 0.7444\n",
      "Epoch 30/30\n",
      "50/50 [==============================] - 0s 4ms/step - loss: 0.0641 - accuracy: 0.9893 - val_loss: 0.9786 - val_accuracy: 0.7368\n"
     ]
    }
   ],
   "source": [
    "num_epochs = 30\n",
    "model.compile(loss='binary_crossentropy',optimizer='adam',metrics=['accuracy'])\n",
    "history = model.fit(training_sequences, training_labels_final, epochs=num_epochs, validation_data=(testing_sequences, testing_labels_final))"
   ]
  },
  {
   "cell_type": "code",
   "execution_count": 31,
   "metadata": {},
   "outputs": [
    {
     "data": {
      "image/png": "[encoded data removed]",
      "text/plain": [
       "<Figure size 432x288 with 1 Axes>"
      ]
     },
     "metadata": {
      "needs_background": "light"
     },
     "output_type": "display_data"
    },
    {
     "data": {
      "image/png": "[encoded data removed]",
      "text/plain": [
       "<Figure size 432x288 with 1 Axes>"
      ]
     },
     "metadata": {
      "needs_background": "light"
     },
     "output_type": "display_data"
    }
   ],
   "source": [
    "import matplotlib.pyplot as plt\n",
    "\n",
    "\n",
    "def plot_graphs(history, string):\n",
    "  plt.plot(history.history[string])\n",
    "  plt.plot(history.history['val_'+string])\n",
    "  plt.xlabel(\"Epochs\")\n",
    "  plt.ylabel(string)\n",
    "  plt.legend([string, 'val_'+string])\n",
    "  plt.show()\n",
    "  \n",
    "plot_graphs(history, \"accuracy\")\n",
    "plot_graphs(history, \"loss\")"
   ]
  },
  {
   "cell_type": "code",
   "execution_count": 32,
   "metadata": {},
   "outputs": [],
   "source": [
    "# Define a function to take a series of reviews\n",
    "# and predict whether each one is a positive or negative review\n",
    "\n",
    "# max_length = 100 # previously defined\n",
    "\n",
    "def predict_review(model, new_sentences, maxlen=max_length, show_padded_sequence=True ):\n",
    "  # Keep the original sentences so that we can keep using them later\n",
    "  # Create an array to hold the encoded sequences\n",
    "  new_sequences = []\n",
    "\n",
    "  # Convert the new reviews to sequences\n",
    "  for i, frvw in enumerate(new_sentences):\n",
    "    new_sequences.append(tokenizer.encode(frvw))\n",
    "\n",
    "  trunc_type='post' \n",
    "  padding_type='post'\n",
    "\n",
    "  # Pad all sequences for the new reviews\n",
    "  new_reviews_padded = pad_sequences(new_sequences, maxlen=max_length, \n",
    "                                 padding=padding_type, truncating=trunc_type)             \n",
    "\n",
    "  classes = model.predict(new_reviews_padded)\n",
    "\n",
    "  # The closer the class is to 1, the more positive the review is\n",
    "  for x in range(len(new_sentences)):\n",
    "    \n",
    "    # We can see the padded sequence if desired\n",
    "    # Print the sequence\n",
    "    if (show_padded_sequence):\n",
    "      print(new_reviews_padded[x])\n",
    "    # Print the review as text\n",
    "    print(new_sentences[x])\n",
    "    # Print its predicted class\n",
    "    print(classes[x])\n",
    "    print(\"\\n\")"
   ]
  },
  {
   "cell_type": "code",
   "execution_count": 33,
   "metadata": {},
   "outputs": [
    {
     "name": "stdout",
     "output_type": "stream",
     "text": [
      "[  4 281  16  25   0   0   0   0   0   0   0   0   0   0   0   0   0   0\n",
      "   0   0   0   0   0   0   0   0   0   0   0   0   0   0   0   0   0   0\n",
      "   0   0   0   0   0   0   0   0   0   0   0   0   0   0]\n",
      "I love this phone\n",
      "[0.9920125]\n",
      "\n",
      "\n",
      "[812 227 864 100 775   9 525 843   0   0   0   0   0   0   0   0   0   0\n",
      "   0   0   0   0   0   0   0   0   0   0   0   0   0   0   0   0   0   0\n",
      "   0   0   0   0   0   0   0   0   0   0   0   0   0   0]\n",
      "Everything was cold\n",
      "[0.00339121]\n",
      "\n",
      "\n",
      "[812 227 864 100 775   9 109   8 333 731  24  61   4 171  59  77   0   0\n",
      "   0   0   0   0   0   0   0   0   0   0   0   0   0   0   0   0   0   0\n",
      "   0   0   0   0   0   0   0   0   0   0   0   0   0   0]\n",
      "Everything was hot exactly as I wanted\n",
      "[0.32023245]\n",
      "\n",
      "\n",
      "[812 227 864 100 775   9 157 359 853   0   0   0   0   0   0   0   0   0\n",
      "   0   0   0   0   0   0   0   0   0   0   0   0   0   0   0   0   0   0\n",
      "   0   0   0   0   0   0   0   0   0   0   0   0   0   0]\n",
      "Everything was green\n",
      "[0.0120939]\n",
      "\n",
      "\n",
      "[  1 109 228 540 237 635 241 423 340  89 298   0   0   0   0   0   0   0\n",
      "   0   0   0   0   0   0   0   0   0   0   0   0   0   0   0   0   0   0\n",
      "   0   0   0   0   0   0   0   0   0   0   0   0   0   0]\n",
      "the host seated us immediately\n",
      "[0.96978545]\n",
      "\n",
      "\n",
      "[154 242  47 635 341  12 569 547 147 319 775 125  85   0   0   0   0   0\n",
      "   0   0   0   0   0   0   0   0   0   0   0   0   0   0   0   0   0   0\n",
      "   0   0   0   0   0   0   0   0   0   0   0   0   0   0]\n",
      "they gave us free chocolate cake\n",
      "[0.8989223]\n",
      "\n",
      "\n",
      "[158 190 853 782   8 607 775 210 232 146 775 470  67 305 101  15   1 328\n",
      " 296  26  19   1 661 641 195   0   0   0   0   0   0   0   0   0   0   0\n",
      "   0   0   0   0   0   0   0   0   0   0   0   0   0   0]\n",
      "we couldn't hear each other talk because of the shouting in the kitchen\n",
      "[0.00023198]\n",
      "\n",
      "\n"
     ]
    }
   ],
   "source": [
    "# Use the model to predict some reviews   \n",
    "fake_reviews = [\"I love this phone\", \n",
    "                \"Everything was cold\",\n",
    "                \"Everything was hot exactly as I wanted\", \n",
    "                \"Everything was green\", \n",
    "                \"the host seated us immediately\",\n",
    "                \"they gave us free chocolate cake\", \n",
    "                \"we couldn't hear each other talk because of the shouting in the kitchen\"\n",
    "              ]\n",
    "\n",
    "predict_review(model, fake_reviews)\n"
   ]
  },
  {
   "cell_type": "code",
   "execution_count": 34,
   "metadata": {},
   "outputs": [],
   "source": [
    "def fit_model_now (model, sentences) :\n",
    "  model.compile(loss='binary_crossentropy',optimizer='adam',metrics=['accuracy'])\n",
    "  model.summary()\n",
    "  history = model.fit(training_sequences, training_labels_final, epochs=num_epochs, \n",
    "                      validation_data=(testing_sequences, testing_labels_final))\n",
    "  return history\n",
    "\n",
    "def plot_results (history):\n",
    "  plot_graphs(history, \"accuracy\")\n",
    "  plot_graphs(history, \"loss\")\n",
    "\n",
    "def fit_model_and_show_results (model, sentences):\n",
    "  history = fit_model_now(model, sentences)\n",
    "  plot_results(history)\n",
    "  predict_review(model, sentences)"
   ]
  },
  {
   "cell_type": "code",
   "execution_count": 35,
   "metadata": {},
   "outputs": [
    {
     "name": "stdout",
     "output_type": "stream",
     "text": [
      "Model: \"sequential_2\"\n",
      "_________________________________________________________________\n",
      "Layer (type)                 Output Shape              Param #   \n",
      "=================================================================\n",
      "embedding_2 (Embedding)      (None, 50, 16)            16000     \n",
      "_________________________________________________________________\n",
      "bidirectional_1 (Bidirection (None, 32)                4224      \n",
      "_________________________________________________________________\n",
      "dense_4 (Dense)              (None, 6)                 198       \n",
      "_________________________________________________________________\n",
      "dense_5 (Dense)              (None, 1)                 7         \n",
      "=================================================================\n",
      "Total params: 20,429\n",
      "Trainable params: 20,429\n",
      "Non-trainable params: 0\n",
      "_________________________________________________________________\n",
      "Epoch 1/30\n",
      "50/50 [==============================] - 10s 55ms/step - loss: 0.6908 - accuracy: 0.5298 - val_loss: 0.6940 - val_accuracy: 0.4311\n",
      "Epoch 2/30\n",
      "50/50 [==============================] - 3s 53ms/step - loss: 0.6478 - accuracy: 0.6660 - val_loss: 0.6066 - val_accuracy: 0.7343\n",
      "Epoch 3/30\n",
      "50/50 [==============================] - 3s 60ms/step - loss: 0.4942 - accuracy: 0.7972 - val_loss: 0.5192 - val_accuracy: 0.7519\n",
      "Epoch 4/30\n",
      "50/50 [==============================] - 2s 47ms/step - loss: 0.3571 - accuracy: 0.8550 - val_loss: 0.4916 - val_accuracy: 0.7644\n",
      "Epoch 5/30\n",
      "50/50 [==============================] - 2s 50ms/step - loss: 0.2859 - accuracy: 0.8895 - val_loss: 0.5012 - val_accuracy: 0.7744\n",
      "Epoch 6/30\n",
      "50/50 [==============================] - 2s 47ms/step - loss: 0.2525 - accuracy: 0.9077 - val_loss: 0.5607 - val_accuracy: 0.7644\n",
      "Epoch 7/30\n",
      "50/50 [==============================] - 2s 40ms/step - loss: 0.1914 - accuracy: 0.9353 - val_loss: 0.6449 - val_accuracy: 0.7669\n",
      "Epoch 8/30\n",
      "50/50 [==============================] - 1s 27ms/step - loss: 0.1518 - accuracy: 0.9498 - val_loss: 0.7824 - val_accuracy: 0.7519\n",
      "Epoch 9/30\n",
      "50/50 [==============================] - 1s 26ms/step - loss: 0.1252 - accuracy: 0.9611 - val_loss: 0.7483 - val_accuracy: 0.7569\n",
      "Epoch 10/30\n",
      "50/50 [==============================] - 1s 26ms/step - loss: 0.1037 - accuracy: 0.9736 - val_loss: 0.9507 - val_accuracy: 0.7519\n",
      "Epoch 11/30\n",
      "50/50 [==============================] - 1s 28ms/step - loss: 0.0949 - accuracy: 0.9812 - val_loss: 0.8473 - val_accuracy: 0.7594\n",
      "Epoch 12/30\n",
      "50/50 [==============================] - 2s 47ms/step - loss: 0.0823 - accuracy: 0.9799 - val_loss: 1.0457 - val_accuracy: 0.7469\n",
      "Epoch 13/30\n",
      "50/50 [==============================] - 3s 52ms/step - loss: 0.1029 - accuracy: 0.9761 - val_loss: 0.9805 - val_accuracy: 0.7444\n",
      "Epoch 14/30\n",
      "50/50 [==============================] - 2s 46ms/step - loss: 0.0932 - accuracy: 0.9736 - val_loss: 1.0056 - val_accuracy: 0.7544\n",
      "Epoch 15/30\n",
      "50/50 [==============================] - 2s 47ms/step - loss: 0.0680 - accuracy: 0.9862 - val_loss: 1.0423 - val_accuracy: 0.7544\n",
      "Epoch 16/30\n",
      "50/50 [==============================] - 2s 46ms/step - loss: 0.0539 - accuracy: 0.9887 - val_loss: 1.0506 - val_accuracy: 0.7469\n",
      "Epoch 17/30\n",
      "50/50 [==============================] - 2s 45ms/step - loss: 0.0436 - accuracy: 0.9931 - val_loss: 1.1456 - val_accuracy: 0.7494\n",
      "Epoch 18/30\n",
      "50/50 [==============================] - 1s 26ms/step - loss: 0.0388 - accuracy: 0.9931 - val_loss: 1.1439 - val_accuracy: 0.7594\n",
      "Epoch 19/30\n",
      "50/50 [==============================] - 1s 25ms/step - loss: 0.0293 - accuracy: 0.9962 - val_loss: 1.1994 - val_accuracy: 0.7619\n",
      "Epoch 20/30\n",
      "50/50 [==============================] - 1s 26ms/step - loss: 0.0256 - accuracy: 0.9962 - val_loss: 1.2812 - val_accuracy: 0.7594\n",
      "Epoch 21/30\n",
      "50/50 [==============================] - 1s 25ms/step - loss: 0.0233 - accuracy: 0.9969 - val_loss: 1.2967 - val_accuracy: 0.7519\n",
      "Epoch 22/30\n",
      "50/50 [==============================] - 2s 37ms/step - loss: 0.0211 - accuracy: 0.9975 - val_loss: 1.2376 - val_accuracy: 0.7444\n",
      "Epoch 23/30\n",
      "50/50 [==============================] - 2s 48ms/step - loss: 0.0343 - accuracy: 0.9950 - val_loss: 1.2023 - val_accuracy: 0.7619\n",
      "Epoch 24/30\n",
      "50/50 [==============================] - 2s 47ms/step - loss: 0.0561 - accuracy: 0.9862 - val_loss: 1.2377 - val_accuracy: 0.7519\n",
      "Epoch 25/30\n",
      "50/50 [==============================] - 2s 47ms/step - loss: 0.0327 - accuracy: 0.9918 - val_loss: 1.2158 - val_accuracy: 0.7569\n",
      "Epoch 26/30\n",
      "50/50 [==============================] - 2s 45ms/step - loss: 0.0737 - accuracy: 0.9780 - val_loss: 1.3324 - val_accuracy: 0.7419\n",
      "Epoch 27/30\n",
      "50/50 [==============================] - 2s 45ms/step - loss: 0.0526 - accuracy: 0.9862 - val_loss: 1.2023 - val_accuracy: 0.7469\n",
      "Epoch 28/30\n",
      "50/50 [==============================] - 2s 36ms/step - loss: 0.0311 - accuracy: 0.9918 - val_loss: 1.1697 - val_accuracy: 0.7343\n",
      "Epoch 29/30\n",
      "50/50 [==============================] - 1s 25ms/step - loss: 0.0218 - accuracy: 0.9975 - val_loss: 1.2687 - val_accuracy: 0.7569\n",
      "Epoch 30/30\n",
      "50/50 [==============================] - 1s 27ms/step - loss: 0.0159 - accuracy: 0.9981 - val_loss: 1.3358 - val_accuracy: 0.7544\n"
     ]
    },
    {
     "data": {
      "image/png": "[encoded data removed]",
      "text/plain": [
       "<Figure size 432x288 with 1 Axes>"
      ]
     },
     "metadata": {
      "needs_background": "light"
     },
     "output_type": "display_data"
    },
    {
     "data": {
      "image/png": "[encoded data removed]",
      "text/plain": [
       "<Figure size 432x288 with 1 Axes>"
      ]
     },
     "metadata": {
      "needs_background": "light"
     },
     "output_type": "display_data"
    },
    {
     "name": "stdout",
     "output_type": "stream",
     "text": [
      "[  4 281  16  25   0   0   0   0   0   0   0   0   0   0   0   0   0   0\n",
      "   0   0   0   0   0   0   0   0   0   0   0   0   0   0   0   0   0   0\n",
      "   0   0   0   0   0   0   0   0   0   0   0   0   0   0]\n",
      "I love this phone\n",
      "[0.9986322]\n",
      "\n",
      "\n",
      "[812 227 864 100 775   9 525 843   0   0   0   0   0   0   0   0   0   0\n",
      "   0   0   0   0   0   0   0   0   0   0   0   0   0   0   0   0   0   0\n",
      "   0   0   0   0   0   0   0   0   0   0   0   0   0   0]\n",
      "Everything was cold\n",
      "[0.01119357]\n",
      "\n",
      "\n",
      "[812 227 864 100 775   9 109   8 333 731  24  61   4 171  59  77   0   0\n",
      "   0   0   0   0   0   0   0   0   0   0   0   0   0   0   0   0   0   0\n",
      "   0   0   0   0   0   0   0   0   0   0   0   0   0   0]\n",
      "Everything was hot exactly as I wanted\n",
      "[0.80397356]\n",
      "\n",
      "\n",
      "[812 227 864 100 775   9 157 359 853   0   0   0   0   0   0   0   0   0\n",
      "   0   0   0   0   0   0   0   0   0   0   0   0   0   0   0   0   0   0\n",
      "   0   0   0   0   0   0   0   0   0   0   0   0   0   0]\n",
      "Everything was green\n",
      "[0.03862658]\n",
      "\n",
      "\n",
      "[  1 109 228 540 237 635 241 423 340  89 298   0   0   0   0   0   0   0\n",
      "   0   0   0   0   0   0   0   0   0   0   0   0   0   0   0   0   0   0\n",
      "   0   0   0   0   0   0   0   0   0   0   0   0   0   0]\n",
      "the host seated us immediately\n",
      "[0.9953649]\n",
      "\n",
      "\n",
      "[154 242  47 635 341  12 569 547 147 319 775 125  85   0   0   0   0   0\n",
      "   0   0   0   0   0   0   0   0   0   0   0   0   0   0   0   0   0   0\n",
      "   0   0   0   0   0   0   0   0   0   0   0   0   0   0]\n",
      "they gave us free chocolate cake\n",
      "[0.93210816]\n",
      "\n",
      "\n",
      "[158 190 853 782   8 607 775 210 232 146 775 470  67 305 101  15   1 328\n",
      " 296  26  19   1 661 641 195   0   0   0   0   0   0   0   0   0   0   0\n",
      "   0   0   0   0   0   0   0   0   0   0   0   0   0   0]\n",
      "we couldn't hear each other talk because of the shouting in the kitchen\n",
      "[0.00203019]\n",
      "\n",
      "\n"
     ]
    }
   ],
   "source": [
    "# Define the model\n",
    "model_bidi_lstm = tf.keras.Sequential([\n",
    "    tf.keras.layers.Embedding(vocab_size, embedding_dim, input_length=max_length),\n",
    "    tf.keras.layers.Bidirectional(tf.keras.layers.LSTM(embedding_dim)), \n",
    "    tf.keras.layers.Dense(6, activation='relu'), \n",
    "    tf.keras.layers.Dense(1, activation='sigmoid')\n",
    "])\n",
    "\n",
    "# Compile and train the model and then show the predictions for our extra sentences\n",
    "fit_model_and_show_results(model_bidi_lstm, fake_reviews)\n"
   ]
  },
  {
   "cell_type": "code",
   "execution_count": 36,
   "metadata": {},
   "outputs": [
    {
     "name": "stdout",
     "output_type": "stream",
     "text": [
      "Model: \"sequential_3\"\n",
      "_________________________________________________________________\n",
      "Layer (type)                 Output Shape              Param #   \n",
      "=================================================================\n",
      "embedding_3 (Embedding)      (None, 50, 16)            16000     \n",
      "_________________________________________________________________\n",
      "bidirectional_2 (Bidirection (None, 50, 32)            4224      \n",
      "_________________________________________________________________\n",
      "bidirectional_3 (Bidirection (None, 32)                6272      \n",
      "_________________________________________________________________\n",
      "dense_6 (Dense)              (None, 6)                 198       \n",
      "_________________________________________________________________\n",
      "dense_7 (Dense)              (None, 1)                 7         \n",
      "=================================================================\n",
      "Total params: 26,701\n",
      "Trainable params: 26,701\n",
      "Non-trainable params: 0\n",
      "_________________________________________________________________\n",
      "Epoch 1/30\n",
      "50/50 [==============================] - 17s 97ms/step - loss: 0.6923 - accuracy: 0.5154 - val_loss: 0.7142 - val_accuracy: 0.4110\n",
      "Epoch 2/30\n",
      "50/50 [==============================] - 5s 97ms/step - loss: 0.6555 - accuracy: 0.5926 - val_loss: 0.6597 - val_accuracy: 0.5965\n",
      "Epoch 3/30\n",
      "50/50 [==============================] - 5s 94ms/step - loss: 0.4933 - accuracy: 0.7966 - val_loss: 0.5213 - val_accuracy: 0.7669\n",
      "Epoch 4/30\n",
      "50/50 [==============================] - 4s 83ms/step - loss: 0.3358 - accuracy: 0.8663 - val_loss: 0.5936 - val_accuracy: 0.7494\n",
      "Epoch 5/30\n",
      "50/50 [==============================] - 3s 55ms/step - loss: 0.2669 - accuracy: 0.9002 - val_loss: 0.5409 - val_accuracy: 0.7820\n",
      "Epoch 6/30\n",
      "50/50 [==============================] - 3s 58ms/step - loss: 0.2119 - accuracy: 0.9278 - val_loss: 0.5846 - val_accuracy: 0.7744\n",
      "Epoch 7/30\n",
      "50/50 [==============================] - 5s 93ms/step - loss: 0.1639 - accuracy: 0.9523 - val_loss: 0.6970 - val_accuracy: 0.7594\n",
      "Epoch 8/30\n",
      "50/50 [==============================] - 5s 96ms/step - loss: 0.1435 - accuracy: 0.9586 - val_loss: 0.7201 - val_accuracy: 0.7644\n",
      "Epoch 9/30\n",
      "50/50 [==============================] - 4s 90ms/step - loss: 0.1226 - accuracy: 0.9655 - val_loss: 0.8681 - val_accuracy: 0.7494\n",
      "Epoch 10/30\n",
      "50/50 [==============================] - 3s 54ms/step - loss: 0.1016 - accuracy: 0.9749 - val_loss: 1.0161 - val_accuracy: 0.7368\n",
      "Epoch 11/30\n",
      "50/50 [==============================] - 3s 58ms/step - loss: 0.1146 - accuracy: 0.9680 - val_loss: 0.8293 - val_accuracy: 0.7469\n",
      "Epoch 12/30\n",
      "50/50 [==============================] - 5s 96ms/step - loss: 0.1085 - accuracy: 0.9680 - val_loss: 0.9279 - val_accuracy: 0.7494\n",
      "Epoch 13/30\n",
      "50/50 [==============================] - 5s 93ms/step - loss: 0.0887 - accuracy: 0.9749 - val_loss: 1.0237 - val_accuracy: 0.7343\n",
      "Epoch 14/30\n",
      "50/50 [==============================] - 5s 94ms/step - loss: 0.0791 - accuracy: 0.9793 - val_loss: 1.3603 - val_accuracy: 0.7318\n",
      "Epoch 15/30\n",
      "50/50 [==============================] - 3s 58ms/step - loss: 0.0771 - accuracy: 0.9818 - val_loss: 1.1197 - val_accuracy: 0.7444\n",
      "Epoch 16/30\n",
      "50/50 [==============================] - 3s 55ms/step - loss: 0.0699 - accuracy: 0.9837 - val_loss: 1.2282 - val_accuracy: 0.7469\n",
      "Epoch 17/30\n",
      "50/50 [==============================] - 4s 85ms/step - loss: 0.0709 - accuracy: 0.9837 - val_loss: 1.2601 - val_accuracy: 0.7419\n",
      "Epoch 18/30\n",
      "50/50 [==============================] - 5s 105ms/step - loss: 0.0789 - accuracy: 0.9812 - val_loss: 1.1926 - val_accuracy: 0.7469\n",
      "Epoch 19/30\n",
      "50/50 [==============================] - 5s 98ms/step - loss: 0.0692 - accuracy: 0.9837 - val_loss: 1.2495 - val_accuracy: 0.7494\n",
      "Epoch 20/30\n",
      "50/50 [==============================] - 3s 66ms/step - loss: 0.0702 - accuracy: 0.9831 - val_loss: 1.1976 - val_accuracy: 0.7544\n",
      "Epoch 21/30\n",
      "50/50 [==============================] - 3s 52ms/step - loss: 0.0774 - accuracy: 0.9812 - val_loss: 1.0889 - val_accuracy: 0.7569\n",
      "Epoch 22/30\n",
      "50/50 [==============================] - 4s 73ms/step - loss: 0.0654 - accuracy: 0.9843 - val_loss: 1.2351 - val_accuracy: 0.7569\n",
      "Epoch 23/30\n",
      "50/50 [==============================] - 5s 97ms/step - loss: 0.0624 - accuracy: 0.9862 - val_loss: 1.2925 - val_accuracy: 0.7519\n",
      "Epoch 24/30\n",
      "50/50 [==============================] - 5s 98ms/step - loss: 0.0605 - accuracy: 0.9868 - val_loss: 1.2756 - val_accuracy: 0.7619\n",
      "Epoch 25/30\n",
      "50/50 [==============================] - 4s 86ms/step - loss: 0.0585 - accuracy: 0.9874 - val_loss: 1.3203 - val_accuracy: 0.7644\n",
      "Epoch 26/30\n",
      "50/50 [==============================] - 3s 55ms/step - loss: 0.0583 - accuracy: 0.9874 - val_loss: 1.3398 - val_accuracy: 0.7594\n",
      "Epoch 27/30\n",
      "50/50 [==============================] - 3s 64ms/step - loss: 0.0582 - accuracy: 0.9874 - val_loss: 1.3533 - val_accuracy: 0.7619\n",
      "Epoch 28/30\n",
      "50/50 [==============================] - 5s 98ms/step - loss: 0.0579 - accuracy: 0.9874 - val_loss: 1.3707 - val_accuracy: 0.7619\n",
      "Epoch 29/30\n",
      "50/50 [==============================] - 5s 95ms/step - loss: 0.0577 - accuracy: 0.9874 - val_loss: 1.3875 - val_accuracy: 0.7619\n",
      "Epoch 30/30\n",
      "50/50 [==============================] - 5s 94ms/step - loss: 0.0574 - accuracy: 0.9874 - val_loss: 1.4100 - val_accuracy: 0.7594\n"
     ]
    },
    {
     "data": {
      "image/png": "[encoded data removed]",
      "text/plain": [
       "<Figure size 432x288 with 1 Axes>"
      ]
     },
     "metadata": {
      "needs_background": "light"
     },
     "output_type": "display_data"
    },
    {
     "data": {
      "image/png": "[encoded data removed]",
      "text/plain": [
       "<Figure size 432x288 with 1 Axes>"
      ]
     },
     "metadata": {
      "needs_background": "light"
     },
     "output_type": "display_data"
    },
    {
     "name": "stdout",
     "output_type": "stream",
     "text": [
      "[  4 281  16  25   0   0   0   0   0   0   0   0   0   0   0   0   0   0\n",
      "   0   0   0   0   0   0   0   0   0   0   0   0   0   0   0   0   0   0\n",
      "   0   0   0   0   0   0   0   0   0   0   0   0   0   0]\n",
      "I love this phone\n",
      "[0.9999447]\n",
      "\n",
      "\n",
      "[812 227 864 100 775   9 525 843   0   0   0   0   0   0   0   0   0   0\n",
      "   0   0   0   0   0   0   0   0   0   0   0   0   0   0   0   0   0   0\n",
      "   0   0   0   0   0   0   0   0   0   0   0   0   0   0]\n",
      "Everything was cold\n",
      "[0.02454698]\n",
      "\n",
      "\n",
      "[812 227 864 100 775   9 109   8 333 731  24  61   4 171  59  77   0   0\n",
      "   0   0   0   0   0   0   0   0   0   0   0   0   0   0   0   0   0   0\n",
      "   0   0   0   0   0   0   0   0   0   0   0   0   0   0]\n",
      "Everything was hot exactly as I wanted\n",
      "[0.0250093]\n",
      "\n",
      "\n",
      "[812 227 864 100 775   9 157 359 853   0   0   0   0   0   0   0   0   0\n",
      "   0   0   0   0   0   0   0   0   0   0   0   0   0   0   0   0   0   0\n",
      "   0   0   0   0   0   0   0   0   0   0   0   0   0   0]\n",
      "Everything was green\n",
      "[0.02489275]\n",
      "\n",
      "\n",
      "[  1 109 228 540 237 635 241 423 340  89 298   0   0   0   0   0   0   0\n",
      "   0   0   0   0   0   0   0   0   0   0   0   0   0   0   0   0   0   0\n",
      "   0   0   0   0   0   0   0   0   0   0   0   0   0   0]\n",
      "the host seated us immediately\n",
      "[0.02755165]\n",
      "\n",
      "\n",
      "[154 242  47 635 341  12 569 547 147 319 775 125  85   0   0   0   0   0\n",
      "   0   0   0   0   0   0   0   0   0   0   0   0   0   0   0   0   0   0\n",
      "   0   0   0   0   0   0   0   0   0   0   0   0   0   0]\n",
      "they gave us free chocolate cake\n",
      "[0.99972904]\n",
      "\n",
      "\n",
      "[158 190 853 782   8 607 775 210 232 146 775 470  67 305 101  15   1 328\n",
      " 296  26  19   1 661 641 195   0   0   0   0   0   0   0   0   0   0   0\n",
      "   0   0   0   0   0   0   0   0   0   0   0   0   0   0]\n",
      "we couldn't hear each other talk because of the shouting in the kitchen\n",
      "[0.02448267]\n",
      "\n",
      "\n"
     ]
    }
   ],
   "source": [
    "model_multiple_bidi_lstm = tf.keras.Sequential([\n",
    "    tf.keras.layers.Embedding(vocab_size, embedding_dim, input_length=max_length),\n",
    "    tf.keras.layers.Bidirectional(tf.keras.layers.LSTM(embedding_dim, \n",
    "                                                       return_sequences=True)), \n",
    "    tf.keras.layers.Bidirectional(tf.keras.layers.LSTM(embedding_dim)),\n",
    "    tf.keras.layers.Dense(6, activation='relu'),\n",
    "    tf.keras.layers.Dense(1, activation='sigmoid')\n",
    "])\n",
    "\n",
    "fit_model_and_show_results(model_multiple_bidi_lstm, fake_reviews)"
   ]
  },
  {
   "cell_type": "code",
   "execution_count": 37,
   "metadata": {},
   "outputs": [],
   "source": [
    "my_reviews =[\"lovely\", \"dreadful\", \"stay away\",\n",
    "             \"everything was hot exactly as I wanted\",\n",
    "             \"everything was not exactly as I wanted\",\n",
    "             \"they gave us free chocolate cake\",\n",
    "             \"I've never eaten anything so spicy in my life, my throat burned for hours\",\n",
    "             \"for a phone that is as expensive as this one I expect it to be much easier to use than this thing is\",\n",
    "             \"we left there very full for a low price so I'd say you just can't go wrong at this place\",\n",
    "             \"that place does not have quality meals and it isn't a good place to go for dinner\",\n",
    "             ]"
   ]
  },
  {
   "cell_type": "code",
   "execution_count": 38,
   "metadata": {},
   "outputs": [
    {
     "name": "stdout",
     "output_type": "stream",
     "text": [
      "===================================\n",
      " Embeddings only:\n",
      " ===================================\n",
      "lovely\n",
      "[0.99437976]\n",
      "\n",
      "\n",
      "dreadful\n",
      "[0.02527806]\n",
      "\n",
      "\n",
      "stay away\n",
      "[0.615518]\n",
      "\n",
      "\n",
      "everything was hot exactly as I wanted\n",
      "[0.94222033]\n",
      "\n",
      "\n",
      "everything was not exactly as I wanted\n",
      "[0.6864887]\n",
      "\n",
      "\n",
      "they gave us free chocolate cake\n",
      "[0.8989223]\n",
      "\n",
      "\n",
      "I've never eaten anything so spicy in my life, my throat burned for hours\n",
      "[0.00138074]\n",
      "\n",
      "\n",
      "for a phone that is as expensive as this one I expect it to be much easier to use than this thing is\n",
      "[0.5740266]\n",
      "\n",
      "\n",
      "we left there very full for a low price so I'd say you just can't go wrong at this place\n",
      "[0.12936872]\n",
      "\n",
      "\n",
      "that place does not have quality meals and it isn't a good place to go for dinner\n",
      "[0.9354501]\n",
      "\n",
      "\n"
     ]
    }
   ],
   "source": [
    "print(\"===================================\\n\",\"Embeddings only:\\n\", \"===================================\",)\n",
    "predict_review(model, my_reviews, show_padded_sequence=False)"
   ]
  },
  {
   "cell_type": "code",
   "execution_count": 39,
   "metadata": {},
   "outputs": [
    {
     "name": "stdout",
     "output_type": "stream",
     "text": [
      "===================================\n",
      " With a single bidirectional LSTM:\n",
      " ===================================\n",
      "lovely\n",
      "[0.9654484]\n",
      "\n",
      "\n",
      "dreadful\n",
      "[0.06289095]\n",
      "\n",
      "\n",
      "stay away\n",
      "[0.13329548]\n",
      "\n",
      "\n",
      "everything was hot exactly as I wanted\n",
      "[0.9927795]\n",
      "\n",
      "\n",
      "everything was not exactly as I wanted\n",
      "[0.05282545]\n",
      "\n",
      "\n",
      "they gave us free chocolate cake\n",
      "[0.93210816]\n",
      "\n",
      "\n",
      "I've never eaten anything so spicy in my life, my throat burned for hours\n",
      "[0.99780595]\n",
      "\n",
      "\n",
      "for a phone that is as expensive as this one I expect it to be much easier to use than this thing is\n",
      "[0.01832041]\n",
      "\n",
      "\n",
      "we left there very full for a low price so I'd say you just can't go wrong at this place\n",
      "[0.9999569]\n",
      "\n",
      "\n",
      "that place does not have quality meals and it isn't a good place to go for dinner\n",
      "[0.99958694]\n",
      "\n",
      "\n"
     ]
    }
   ],
   "source": [
    "print(\"===================================\\n\", \"With a single bidirectional LSTM:\\n\", \"===================================\")\n",
    "predict_review(model_bidi_lstm, my_reviews, show_padded_sequence=False)"
   ]
  },
  {
   "cell_type": "code",
   "execution_count": 40,
   "metadata": {},
   "outputs": [
    {
     "name": "stdout",
     "output_type": "stream",
     "text": [
      "===================================\n",
      " With two bidirectional LSTMs:\n",
      " ===================================\n",
      "lovely\n",
      "[0.99994534]\n",
      "\n",
      "\n",
      "dreadful\n",
      "[0.02107194]\n",
      "\n",
      "\n",
      "stay away\n",
      "[0.02084434]\n",
      "\n",
      "\n",
      "everything was hot exactly as I wanted\n",
      "[0.9987512]\n",
      "\n",
      "\n",
      "everything was not exactly as I wanted\n",
      "[0.02212876]\n",
      "\n",
      "\n",
      "they gave us free chocolate cake\n",
      "[0.99972904]\n",
      "\n",
      "\n",
      "I've never eaten anything so spicy in my life, my throat burned for hours\n",
      "[0.02208582]\n",
      "\n",
      "\n",
      "for a phone that is as expensive as this one I expect it to be much easier to use than this thing is\n",
      "[0.02129382]\n",
      "\n",
      "\n",
      "we left there very full for a low price so I'd say you just can't go wrong at this place\n",
      "[0.33777842]\n",
      "\n",
      "\n",
      "that place does not have quality meals and it isn't a good place to go for dinner\n",
      "[0.02226481]\n",
      "\n",
      "\n"
     ]
    }
   ],
   "source": [
    "print(\"===================================\\n\",\"With two bidirectional LSTMs:\\n\", \"===================================\")\n",
    "predict_review(model_multiple_bidi_lstm, my_reviews, show_padded_sequence=False)"
   ]
  }
 ],
 "metadata": {
  "kernelspec": {
   "display_name": "base",
   "language": "python",
   "name": "python3"
  },
  "language_info": {
   "codemirror_mode": {
    "name": "ipython",
    "version": 3
   },
   "file_extension": ".py",
   "mimetype": "text/x-python",
   "name": "python",
   "nbconvert_exporter": "python",
   "pygments_lexer": "ipython3",
   "version": "3.8.8"
  },
  "orig_nbformat": 4,
  "vscode": {
   "interpreter": {
    "hash": "58d76dfd65793fccacb87489547271a4dff26830b1ffc4b526118943a22c8762"
   }
  }
 },
 "nbformat": 4,
 "nbformat_minor": 2
}
